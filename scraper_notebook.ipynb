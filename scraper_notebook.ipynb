{
 "cells": [
  {
   "cell_type": "code",
   "execution_count": 1,
   "id": "2dd71baa",
   "metadata": {},
   "outputs": [],
   "source": [
    "import os \n",
    "import re\n",
    "import pandas as pd\n",
    "import numpy as np\n",
    "import pdfquery\n",
    "import fitz\n",
    "from datetime import timedelta\n",
    "from utils import *"
   ]
  },
  {
   "cell_type": "code",
   "execution_count": 2,
   "id": "8d44c9f3",
   "metadata": {},
   "outputs": [
    {
     "name": "stdout",
     "output_type": "stream",
     "text": [
      "All executed, check source folder for cropped pdf(s)\n"
     ]
    }
   ],
   "source": [
    "# 1 in which pdf file to look over \n",
    "# 2 for which driver to look over \n",
    "search_info = initial_search(\"sessions_pdfs/Donington.pdf\", \"Glenn IRWIN\")"
   ]
  },
  {
   "cell_type": "code",
   "execution_count": 3,
   "id": "320e20af",
   "metadata": {},
   "outputs": [],
   "source": [
    "def save_results(excel_name, cropped_file_names, track_template, to_delete_cropped_pdfs = True):\n",
    "    #pdf = fitz.open(\"sbk.pdf\")\n",
    "    excel_path = f'{excel_name}.xlsx'\n",
    "    \n",
    "    dfs = track_template(cropped_file_names)\n",
    "        \n",
    "    # save to excel    \n",
    "    with pd.ExcelWriter(excel_path, engine='xlsxwriter') as writer:\n",
    "        for sheet_name, df in dfs.items():\n",
    "            df.to_excel(writer, sheet_name=sheet_name)\n",
    "\n",
    "    print(f'Data successfully saved to {excel_path}')   \n",
    "    #pdf.close()\n",
    "    \n",
    "    if to_delete_cropped_pdfs == True:\n",
    "        for file_name in cropped_file_names:\n",
    "            # Check if file exists\n",
    "            if os.path.exists(file_name):\n",
    "                # Delete the file\n",
    "                os.remove(file_name)\n",
    "                print(f\"Deleted: {file_name}\")\n",
    "            else:\n",
    "                print(f\"File does not exist: {file_name}\")\n",
    "    else:\n",
    "        pass\n"
   ]
  },
  {
   "cell_type": "code",
   "execution_count": 4,
   "id": "d15cfb53",
   "metadata": {},
   "outputs": [],
   "source": [
    "# track template names for 3rd argument of save_results\n",
    "\n",
    "# brandshatch\n",
    "# donington\n",
    "# snetterton\n",
    "# knockhill\n",
    "# thruxton\n",
    "# cadewell"
   ]
  },
  {
   "cell_type": "code",
   "execution_count": 5,
   "id": "aa17cdd6",
   "metadata": {},
   "outputs": [
    {
     "name": "stdout",
     "output_type": "stream",
     "text": [
      "Data successfully saved to Excel_File_Name_Of_Ur_Choice.xlsx\n",
      "Deleted: cropped_area_extended_0.pdf\n",
      "Deleted: cropped_area_extended_1.pdf\n",
      "Deleted: cropped_area_extended_2.pdf\n",
      "Deleted: cropped_area_extended_3.pdf\n",
      "Deleted: cropped_area_extended_4.pdf\n",
      "Deleted: cropped_area_extended_5.pdf\n",
      "Deleted: cropped_area_extended_6.pdf\n",
      "Deleted: cropped_area_extended_7.pdf\n",
      "Deleted: cropped_area_extended_8.pdf\n"
     ]
    }
   ],
   "source": [
    "save_results(\"Excel_File_Name_Of_Ur_Choice\", search_info, donington, True)"
   ]
  },
  {
   "cell_type": "code",
   "execution_count": null,
   "id": "9bfde3c0",
   "metadata": {},
   "outputs": [],
   "source": []
  }
 ],
 "metadata": {
  "kernelspec": {
   "display_name": "Python 3.9 (pytorch)",
   "language": "python",
   "name": "pytorch"
  },
  "language_info": {
   "codemirror_mode": {
    "name": "ipython",
    "version": 3
   },
   "file_extension": ".py",
   "mimetype": "text/x-python",
   "name": "python",
   "nbconvert_exporter": "python",
   "pygments_lexer": "ipython3",
   "version": "3.9.16"
  }
 },
 "nbformat": 4,
 "nbformat_minor": 5
}
